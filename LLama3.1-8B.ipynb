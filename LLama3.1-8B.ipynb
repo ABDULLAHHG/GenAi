{
 "cells": [
  {
   "cell_type": "markdown",
   "id": "8dd68ee4-3ea7-43bc-a2a9-60f859603db9",
   "metadata": {},
   "source": [
    "### GenAi \n",
    "* here we will try some model "
   ]
  },
  {
   "cell_type": "code",
   "execution_count": 1,
   "id": "e82fdf07-ff7e-4c71-972d-5eab13b41170",
   "metadata": {},
   "outputs": [],
   "source": [
    "# if u havent install them \n",
    "# %pip install -U bitsandbytes\n",
    "# %pip install -U transformers\n",
    "# %pip install -U accelerate\n",
    "# %pip install -U peft\n",
    "# %pip install -U trl"
   ]
  },
  {
   "cell_type": "markdown",
   "id": "1d52d3d4-7bce-449a-93fe-b52b856c385e",
   "metadata": {},
   "source": [
    "#### Import libraries"
   ]
  },
  {
   "cell_type": "code",
   "execution_count": 3,
   "id": "9500414b-2f85-46f8-b0c9-6926c58acd06",
   "metadata": {},
   "outputs": [],
   "source": [
    "from transformers import (AutoModelForCausalLM, AutoTokenizer)"
   ]
  },
  {
   "cell_type": "code",
   "execution_count": 4,
   "id": "25161d4b-c3bd-479f-beac-97c52c45ae1e",
   "metadata": {},
   "outputs": [
    {
     "data": {
      "application/vnd.jupyter.widget-view+json": {
       "model_id": "6a7f86050a7e479d8fc25a85788ca1d8",
       "version_major": 2,
       "version_minor": 0
      },
      "text/plain": [
       "Loading checkpoint shards:   0%|          | 0/4 [00:00<?, ?it/s]"
      ]
     },
     "metadata": {},
     "output_type": "display_data"
    },
    {
     "name": "stderr",
     "output_type": "stream",
     "text": [
      "Some parameters are on the meta device device because they were offloaded to the disk and cpu.\n"
     ]
    }
   ],
   "source": [
    "# choose the model\n",
    "model_id = \"meta-llama/Meta-Llama-3.1-8B\"\n",
    "\n",
    "# Load the model \n",
    "model = AutoModelForCausalLM.from_pretrained(\n",
    "    model_id,\n",
    "    device_map=\"auto\",\n",
    "    torch_dtype=\"float16\",\n",
    "    # quantization_config=bnb_config, \n",
    ")"
   ]
  },
  {
   "cell_type": "markdown",
   "id": "9f808371-7693-415d-82ba-dc560531b3b2",
   "metadata": {},
   "source": [
    "#### Load the tokenizer "
   ]
  },
  {
   "cell_type": "code",
   "execution_count": 5,
   "id": "e54ccf69-f610-48cd-82b3-6aaeabc4446b",
   "metadata": {},
   "outputs": [],
   "source": [
    "tokenizer = AutoTokenizer.from_pretrained(model_id)"
   ]
  },
  {
   "cell_type": "code",
   "execution_count": 6,
   "id": "6a838985-3334-40b6-9851-cfbd2932a889",
   "metadata": {},
   "outputs": [],
   "source": [
    "# choose a prompt \n",
    "prompt = \"Hi i am aboud\"\n",
    "\n",
    "# convert it to tokenize it \n",
    "token = tokenizer(prompt , return_tensors=\"pt\")\n",
    "\n",
    "# split it ot input_ids and attention_mask \n",
    "input_ids = token.input_ids\n",
    "attention_mask = token.attention_mask"
   ]
  },
  {
   "cell_type": "code",
   "execution_count": 15,
   "id": "9b314a34-8840-4310-8865-7d57e66e8d87",
   "metadata": {},
   "outputs": [
    {
     "name": "stderr",
     "output_type": "stream",
     "text": [
      "Setting `pad_token_id` to `eos_token_id`:128001 for open-end generation.\n"
     ]
    },
    {
     "name": "stdout",
     "output_type": "stream",
     "text": [
      "CPU times: total: 57.8 s\n",
      "Wall time: 2min 10s\n"
     ]
    }
   ],
   "source": [
    "%%time # to show you how much time it take \n",
    "\n",
    "# then use the model to generate the output \n",
    "outputs = model.generate(input_ids = input_ids , attention_mask = attention_mask )"
   ]
  },
  {
   "cell_type": "code",
   "execution_count": 16,
   "id": "17414a77-4826-4a51-8ffd-b28bb321255f",
   "metadata": {},
   "outputs": [
    {
     "data": {
      "text/plain": [
       "['Hi i am aboudi and i am a student in computer science\\n']"
      ]
     },
     "execution_count": 16,
     "metadata": {},
     "output_type": "execute_result"
    }
   ],
   "source": [
    "# convert the output from tokens to text or readable language \n",
    "tokenizer.batch_decode(outputs, skip_special_tokens=True)"
   ]
  },
  {
   "cell_type": "markdown",
   "id": "697df279-69c2-4a17-b133-f6a793a97c01",
   "metadata": {},
   "source": [
    "* ok not bad \n",
    "* but it take about 2 minutes \n",
    "* and it take about 16GB ram "
   ]
  },
  {
   "cell_type": "code",
   "execution_count": null,
   "id": "e0026840-a56e-49a3-8441-fd906e3d7e5e",
   "metadata": {},
   "outputs": [],
   "source": []
  }
 ],
 "metadata": {
  "kernelspec": {
   "display_name": "Python 3 (ipykernel)",
   "language": "python",
   "name": "python3"
  },
  "language_info": {
   "codemirror_mode": {
    "name": "ipython",
    "version": 3
   },
   "file_extension": ".py",
   "mimetype": "text/x-python",
   "name": "python",
   "nbconvert_exporter": "python",
   "pygments_lexer": "ipython3",
   "version": "3.12.4"
  }
 },
 "nbformat": 4,
 "nbformat_minor": 5
}
