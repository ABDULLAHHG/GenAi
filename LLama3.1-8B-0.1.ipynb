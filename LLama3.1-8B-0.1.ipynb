{
 "cells": [
  {
   "cell_type": "markdown",
   "id": "8dd68ee4-3ea7-43bc-a2a9-60f859603db9",
   "metadata": {},
   "source": [
    "### GenAi \n",
    "* here we will try Llama3.1-8B"
   ]
  },
  {
   "cell_type": "code",
   "execution_count": 1,
   "id": "e82fdf07-ff7e-4c71-972d-5eab13b41170",
   "metadata": {},
   "outputs": [],
   "source": [
    "# if u havent install them \n",
    "# %pip install -U bitsandbytes\n",
    "# %pip install -U transformers\n",
    "# %pip install -U accelerate\n",
    "# %pip install -U peft\n",
    "# %pip install -U trl"
   ]
  },
  {
   "cell_type": "markdown",
   "id": "1d52d3d4-7bce-449a-93fe-b52b856c385e",
   "metadata": {},
   "source": [
    "#### Import libraries"
   ]
  },
  {
   "cell_type": "code",
   "execution_count": 1,
   "id": "9500414b-2f85-46f8-b0c9-6926c58acd06",
   "metadata": {},
   "outputs": [],
   "source": [
    "from transformers import (AutoModelForCausalLM, AutoTokenizer)"
   ]
  },
  {
   "cell_type": "code",
   "execution_count": 2,
   "id": "25161d4b-c3bd-479f-beac-97c52c45ae1e",
   "metadata": {},
   "outputs": [
    {
     "name": "stderr",
     "output_type": "stream",
     "text": [
      "The `load_in_4bit` and `load_in_8bit` arguments are deprecated and will be removed in the future versions. Please, pass a `BitsAndBytesConfig` object in `quantization_config` argument instead.\n"
     ]
    },
    {
     "data": {
      "application/vnd.jupyter.widget-view+json": {
       "model_id": "0026a4d44c684582bd8dd824032406ef",
       "version_major": 2,
       "version_minor": 0
      },
      "text/plain": [
       "Loading checkpoint shards:   0%|          | 0/4 [00:00<?, ?it/s]"
      ]
     },
     "metadata": {},
     "output_type": "display_data"
    }
   ],
   "source": [
    "# choose the model\n",
    "model_id = \"meta-llama/Meta-Llama-3.1-8B\"\n",
    "\n",
    "# Load the model \n",
    "model = AutoModelForCausalLM.from_pretrained(\n",
    "    model_id,\n",
    "    device_map=\"cuda\",\n",
    "    torch_dtype=\"bfloat16\",\n",
    "    load_in_4bit=True\n",
    "    # quantization_config=bnb_config, # we will use it later on \n",
    ")"
   ]
  },
  {
   "cell_type": "markdown",
   "id": "e81eda20-3153-4e7c-adc5-ed130e60735b",
   "metadata": {},
   "source": [
    "##### Lower Precision\n",
    "* Lower Precision: Research has shown that operating at reduced numerical precision, namely 8-bit and 4-bit can achieve computational advantages without a considerable decline in model performance.\n",
    "\n",
    "* we will use `load_in_8bit=True` and `load_in_4bit=True` to make the model take less VRAM that way it will load to cuda even with 8GB VRAM \n",
    "* and we will compare between them "
   ]
  },
  {
   "cell_type": "markdown",
   "id": "9f808371-7693-415d-82ba-dc560531b3b2",
   "metadata": {},
   "source": [
    "#### Load the tokenizer "
   ]
  },
  {
   "cell_type": "code",
   "execution_count": 3,
   "id": "e54ccf69-f610-48cd-82b3-6aaeabc4446b",
   "metadata": {},
   "outputs": [],
   "source": [
    "tokenizer = AutoTokenizer.from_pretrained(model_id)"
   ]
  },
  {
   "cell_type": "code",
   "execution_count": 4,
   "id": "6a838985-3334-40b6-9851-cfbd2932a889",
   "metadata": {},
   "outputs": [],
   "source": [
    "# choose a prompt \n",
    "prompt = \"Hi i am aboud\"\n",
    "\n",
    "# convert it to tokenize it \n",
    "token = tokenizer(prompt , return_tensors=\"pt\")\n",
    "\n",
    "# split it ot input_ids and attention_mask \n",
    "input_ids = token.input_ids\n",
    "attention_mask = token.attention_mask"
   ]
  },
  {
   "cell_type": "code",
   "execution_count": 5,
   "id": "9b314a34-8840-4310-8865-7d57e66e8d87",
   "metadata": {},
   "outputs": [
    {
     "name": "stderr",
     "output_type": "stream",
     "text": [
      "Setting `pad_token_id` to `eos_token_id`:128001 for open-end generation.\n",
      "D:\\New folder\\envs\\pt\\Lib\\site-packages\\transformers\\generation\\utils.py:1258: UserWarning: Using the model-agnostic default `max_length` (=20) to control the generation length. We recommend setting `max_new_tokens` to control the maximum length of the generation.\n",
      "  warnings.warn(\n",
      "D:\\New folder\\envs\\pt\\Lib\\site-packages\\transformers\\generation\\utils.py:1885: UserWarning: You are calling .generate() with the `input_ids` being on a device type different than your model's device. `input_ids` is on cpu, whereas the model is on cuda. You may experience unexpected behaviors or slower generation. Please make sure that you have put `input_ids` to the correct device by calling for example input_ids = input_ids.to('cuda') before running `.generate()`.\n",
      "  warnings.warn(\n",
      "D:\\New folder\\envs\\pt\\Lib\\site-packages\\transformers\\models\\llama\\modeling_llama.py:660: UserWarning: 1Torch was not compiled with flash attention. (Triggered internally at C:\\actions-runner\\_work\\pytorch\\pytorch\\builder\\windows\\pytorch\\aten\\src\\ATen\\native\\transformers\\cuda\\sdp_utils.cpp:555.)\n",
      "  attn_output = torch.nn.functional.scaled_dot_product_attention(\n"
     ]
    },
    {
     "name": "stdout",
     "output_type": "stream",
     "text": [
      "CPU times: total: 2.44 s\n",
      "Wall time: 3.95 s\n"
     ]
    }
   ],
   "source": [
    "%%time \n",
    "# to show you how much time it take \n",
    "\n",
    "# then use the model to generate the output \n",
    "outputs = model.generate(input_ids = input_ids , attention_mask = attention_mask )"
   ]
  },
  {
   "cell_type": "code",
   "execution_count": 6,
   "id": "17414a77-4826-4a51-8ffd-b28bb321255f",
   "metadata": {},
   "outputs": [
    {
     "data": {
      "text/plain": [
       "['Hi i am aboudi from tunisia and i am 14 years old i am a']"
      ]
     },
     "execution_count": 6,
     "metadata": {},
     "output_type": "execute_result"
    }
   ],
   "source": [
    "# convert the output from tokens to text or readable language \n",
    "tokenizer.batch_decode(outputs, skip_special_tokens=True)"
   ]
  },
  {
   "cell_type": "markdown",
   "id": "f7b155ec-99d8-4ea9-a497-817a46f2b3f9",
   "metadata": {},
   "source": [
    "### Summary"
   ]
  },
  {
   "cell_type": "markdown",
   "id": "697df279-69c2-4a17-b133-f6a793a97c01",
   "metadata": {},
   "source": [
    "##### without `load_in_8bit=True`\n",
    "* ok not bad \n",
    "* but it take about 2 minutes \n",
    "* and it take about 16GB ram \n",
    "\n",
    "##### with `load_in_8bit=True`\n",
    "* it take about 8.5 sec \n",
    "* 8GB VRAN and 1.5GB shared memory \n",
    "\n",
    "##### with `load_in_4bit=True`\n",
    "* it take about 4 sec \n",
    "* 6 GB VRAM \n",
    "\n",
    "##### source \n",
    "Optimizing LLMs for Speed and Memory : \n",
    "https://huggingface.co/docs/transformers/llm_tutorial_optimization"
   ]
  },
  {
   "cell_type": "code",
   "execution_count": null,
   "id": "e0026840-a56e-49a3-8441-fd906e3d7e5e",
   "metadata": {},
   "outputs": [],
   "source": []
  }
 ],
 "metadata": {
  "kernelspec": {
   "display_name": "Python 3 (ipykernel)",
   "language": "python",
   "name": "python3"
  },
  "language_info": {
   "codemirror_mode": {
    "name": "ipython",
    "version": 3
   },
   "file_extension": ".py",
   "mimetype": "text/x-python",
   "name": "python",
   "nbconvert_exporter": "python",
   "pygments_lexer": "ipython3",
   "version": "3.12.4"
  }
 },
 "nbformat": 4,
 "nbformat_minor": 5
}
