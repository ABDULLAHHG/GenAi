{
 "cells": [
  {
   "cell_type": "markdown",
   "id": "247acf78-b11d-44fa-a828-ac734dbbab8c",
   "metadata": {},
   "source": [
    "### take a look on gemini \n",
    "###### [LangChain with genai](https://python.langchain.com/v0.2/docs/integrations/chat/google_generative_ai/#instantiation)"
   ]
  },
  {
   "cell_type": "code",
   "execution_count": 6,
   "id": "f530f7d8-b421-473a-b182-b049431904f3",
   "metadata": {},
   "outputs": [
    {
     "data": {
      "text/plain": [
       "True"
      ]
     },
     "execution_count": 6,
     "metadata": {},
     "output_type": "execute_result"
    }
   ],
   "source": [
    "# importing os module for environment variables\n",
    "import os\n",
    "\n",
    "# importing necessary functions from dotenv library\n",
    "from dotenv import load_dotenv, dotenv_values \n",
    "\n",
    "# loading variables from .env file\n",
    "load_dotenv() \n"
   ]
  },
  {
   "cell_type": "markdown",
   "id": "cf5cc247-37c2-4489-a3b4-428520081f11",
   "metadata": {},
   "source": [
    "###### [how to create .env file](https://www.geeksforgeeks.org/how-to-create-and-use-env-files-in-python/)"
   ]
  },
  {
   "cell_type": "markdown",
   "id": "35bcf8f2-e8d4-45eb-90a4-3d11ce02cf70",
   "metadata": {},
   "source": [
    "#### Prepare the google api key using dotenv "
   ]
  },
  {
   "cell_type": "code",
   "execution_count": 11,
   "id": "d5509f8e-6a0c-4721-9165-310a6e6e3c9b",
   "metadata": {},
   "outputs": [],
   "source": [
    "os.environ[\"GOOGLE_API_KEY\"] = os.getenv(\"GOOGLE_API_KEY\")"
   ]
  },
  {
   "cell_type": "markdown",
   "id": "0f657777-6372-4a8a-a39b-9551f57ec6de",
   "metadata": {},
   "source": [
    "#### model invok \n",
    "###### [ChatGoogleGenerativeAI documentation](https://api.python.langchain.com/en/latest/chat_models/langchain_google_genai.chat_models.ChatGoogleGenerativeAI.html)"
   ]
  },
  {
   "cell_type": "code",
   "execution_count": 13,
   "id": "d34be938-d3b9-4eb8-83c8-d5a1256f49bc",
   "metadata": {},
   "outputs": [],
   "source": [
    "from langchain_google_genai import ChatGoogleGenerativeAI  , HarmBlockThreshold, HarmCategory\n",
    "\n",
    "llm = ChatGoogleGenerativeAI(\n",
    "    model=\"gemini-1.5-pro\",\n",
    "    temperature=0,\n",
    "    max_tokens=None,\n",
    "    timeout=None,\n",
    "    max_retries=2,\n",
    "    safety_settings={\n",
    "        HarmCategory.HARM_CATEGORY_DANGEROUS_CONTENT: HarmBlockThreshold.BLOCK_NONE,\n",
    "    },\n",
    ")\n"
   ]
  },
  {
   "cell_type": "code",
   "execution_count": 26,
   "id": "84d40134-6d33-4dc8-87e2-39e29f90a702",
   "metadata": {},
   "outputs": [
    {
     "name": "stdout",
     "output_type": "stream",
     "text": [
      "Hi! How can I help you today? \n",
      "\n"
     ]
    }
   ],
   "source": [
    "print(llm.invoke(\"hi\").content)"
   ]
  },
  {
   "cell_type": "code",
   "execution_count": null,
   "id": "5604eaba-14c9-413c-aff0-bcda80f0e725",
   "metadata": {},
   "outputs": [],
   "source": []
  }
 ],
 "metadata": {
  "kernelspec": {
   "display_name": "Python 3 (ipykernel)",
   "language": "python",
   "name": "python3"
  },
  "language_info": {
   "codemirror_mode": {
    "name": "ipython",
    "version": 3
   },
   "file_extension": ".py",
   "mimetype": "text/x-python",
   "name": "python",
   "nbconvert_exporter": "python",
   "pygments_lexer": "ipython3",
   "version": "3.12.4"
  }
 },
 "nbformat": 4,
 "nbformat_minor": 5
}
