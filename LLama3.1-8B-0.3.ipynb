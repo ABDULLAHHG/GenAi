{
 "cells": [
  {
   "cell_type": "markdown",
   "id": "8dd68ee4-3ea7-43bc-a2a9-60f859603db9",
   "metadata": {},
   "source": [
    "### GenAi \n",
    "* here we will try Llama3.1-8B"
   ]
  },
  {
   "cell_type": "code",
   "execution_count": 1,
   "id": "e82fdf07-ff7e-4c71-972d-5eab13b41170",
   "metadata": {},
   "outputs": [],
   "source": [
    "# if u havent install them \n",
    "# %pip install -U bitsandbytes\n",
    "# %pip install -U transformers\n",
    "# %pip install -U accelerate\n",
    "# %pip install -U peft\n",
    "# %pip install -U trl"
   ]
  },
  {
   "cell_type": "markdown",
   "id": "1d52d3d4-7bce-449a-93fe-b52b856c385e",
   "metadata": {},
   "source": [
    "#### Import libraries"
   ]
  },
  {
   "cell_type": "code",
   "execution_count": 2,
   "id": "9500414b-2f85-46f8-b0c9-6926c58acd06",
   "metadata": {},
   "outputs": [],
   "source": [
    "from transformers import (AutoModelForCausalLM, AutoTokenizer , BitsAndBytesConfig)"
   ]
  },
  {
   "cell_type": "code",
   "execution_count": 3,
   "id": "9c9ab321-57d6-477d-8929-dd2ecee1930d",
   "metadata": {},
   "outputs": [],
   "source": [
    "# Quantization config\n",
    "bnb_config = BitsAndBytesConfig(\n",
    "    load_in_4bit=True,\n",
    "    bnb_4bit_use_double_quant=True, # nested quantization for more memory efficient inference and training\n",
    "    # The 4bit integration comes with 2 different quantization types: FP4 and NF4. The NF4 dtype stands for Normal Float 4\n",
    "    bnb_4bit_quant_type=\"nf4\", # NF4 quantization type for better results\n",
    "    \n",
    "    bnb_4bit_compute_dtype=\"bfloat16\",\n",
    ")"
   ]
  },
  {
   "cell_type": "code",
   "execution_count": 4,
   "id": "25161d4b-c3bd-479f-beac-97c52c45ae1e",
   "metadata": {},
   "outputs": [
    {
     "data": {
      "application/vnd.jupyter.widget-view+json": {
       "model_id": "46a9589161bd4213818ddaaffb30ac4c",
       "version_major": 2,
       "version_minor": 0
      },
      "text/plain": [
       "Loading checkpoint shards:   0%|          | 0/4 [00:00<?, ?it/s]"
      ]
     },
     "metadata": {},
     "output_type": "display_data"
    }
   ],
   "source": [
    "# choose the model\n",
    "model_id = \"meta-llama/Meta-Llama-3.1-8B\"\n",
    "\n",
    "# Load the model \n",
    "model = AutoModelForCausalLM.from_pretrained(\n",
    "    model_id,\n",
    "    device_map=\"cuda\",\n",
    "    torch_dtype=\"bfloat16\",\n",
    "    quantization_config=bnb_config, \n",
    ")\n",
    "\n",
    "model.config.use_cache = False\n",
    "model.config.pretraining_tp = 1"
   ]
  },
  {
   "cell_type": "markdown",
   "id": "e81eda20-3153-4e7c-adc5-ed130e60735b",
   "metadata": {},
   "source": [
    "##### Lower Precision\n",
    "* We start with the basic understanding of different floating point data types, which are also referred to as \"precision\" in the context of Machine Learning.\n",
    "\n",
    "* Lower Precision: Research has shown that operating at reduced numerical precision, namely 8-bit and 4-bit can achieve computational advantages without a considerable decline in model performance.\n",
    "\n",
    "* we will use `load_in_8bit=True` and `load_in_4bit=True` to make the model take less VRAM that way it will load to cuda even with 8GB VRAM \n",
    "* and we will compare between them "
   ]
  },
  {
   "cell_type": "markdown",
   "id": "9f808371-7693-415d-82ba-dc560531b3b2",
   "metadata": {},
   "source": [
    "#### Load the tokenizer "
   ]
  },
  {
   "cell_type": "code",
   "execution_count": 5,
   "id": "e54ccf69-f610-48cd-82b3-6aaeabc4446b",
   "metadata": {},
   "outputs": [],
   "source": [
    "tokenizer = AutoTokenizer.from_pretrained(model_id)"
   ]
  },
  {
   "cell_type": "code",
   "execution_count": 10,
   "id": "6a838985-3334-40b6-9851-cfbd2932a889",
   "metadata": {},
   "outputs": [],
   "source": [
    "# choose a prompt \n",
    "prompt = \"Hi i am aboud \"\n",
    "\n",
    "# convert it to tokenize it \n",
    "token = tokenizer(prompt , return_tensors=\"pt\")\n",
    "\n",
    "# split it ot input_ids and attention_mask \n",
    "input_ids = token.input_ids\n",
    "attention_mask = token.attention_mask"
   ]
  },
  {
   "cell_type": "code",
   "execution_count": 13,
   "id": "a70dfbd2-ab76-47fe-9b2e-8a926a4141e9",
   "metadata": {},
   "outputs": [],
   "source": [
    "# use input to cuda \n",
    "input_ids = input_ids.to('cuda')\n",
    "attention_mask = attention_mask.to('cuda')\n"
   ]
  },
  {
   "cell_type": "code",
   "execution_count": 29,
   "id": "9b314a34-8840-4310-8865-7d57e66e8d87",
   "metadata": {},
   "outputs": [
    {
     "name": "stdout",
     "output_type": "stream",
     "text": [
      "CPU times: total: 688 ms\n",
      "Wall time: 661 ms\n"
     ]
    }
   ],
   "source": [
    "%%time \n",
    "# to show you how much time it take \n",
    "\n",
    "# then use the model to generate the output \n",
    "outputs = model.generate(input_ids = input_ids , attention_mask = attention_mask  , max_length = 10 ,  pad_token_id = 128001  )"
   ]
  },
  {
   "cell_type": "code",
   "execution_count": 30,
   "id": "17414a77-4826-4a51-8ffd-b28bb321255f",
   "metadata": {},
   "outputs": [
    {
     "data": {
      "text/plain": [
       "['Hi i am aboud 4 year old']"
      ]
     },
     "execution_count": 30,
     "metadata": {},
     "output_type": "execute_result"
    }
   ],
   "source": [
    "# convert the output from tokens to text or readable language \n",
    "tokenizer.batch_decode(outputs, skip_special_tokens=True)"
   ]
  },
  {
   "cell_type": "markdown",
   "id": "f7b155ec-99d8-4ea9-a497-817a46f2b3f9",
   "metadata": {},
   "source": [
    "### Summary"
   ]
  },
  {
   "cell_type": "markdown",
   "id": "697df279-69c2-4a17-b133-f6a793a97c01",
   "metadata": {},
   "source": [
    "##### without `load_in_8bit=True`\n",
    "* ok not bad \n",
    "* but it take about 2 minutes \n",
    "* and it take about 16GB ram \n",
    "\n",
    "##### with `load_in_8bit=True`\n",
    "* it take about 8.5 sec \n",
    "* 8GB VRAM and 1.5GB shared memory \n",
    "\n",
    "##### with `load_in_4bit=True`\n",
    "* it take about 4 sec \n",
    "* 6 GB VRAM \n",
    "\n",
    "##### With quantization config\n",
    "* it take about 3.5 sec\n",
    "* 5.5 GB VRAM\n",
    "* we use nf4 quantization type for better results\n",
    "* we use nested quantization for more memory efficient inference and training\n",
    "##### with input and attention .to(cuda)\n",
    "* it take about 1.5 sec\n",
    "* the same VRAM 5.5 GB\n",
    "\n",
    "##### u can change the max_length \n",
    "* make it low will descrease time consuming\n",
    "* make it high will increase time consuming\n",
    "* that thing depends on your prompt and dataset\n",
    "* change it to 10\n",
    "* it take about 6ms\n",
    "\n",
    "##### source \n",
    "Optimizing LLMs for Speed and Memory : \n",
    "https://huggingface.co/docs/transformers/llm_tutorial_optimization <br> \n",
    "bnb-4bit-integration : https://colab.research.google.com/drive/1ge2F1QSK8Q7h0hn3YKuBCOAS0bK8E0wf?usp=sharing"
   ]
  },
  {
   "cell_type": "markdown",
   "id": "60f7c54b-a7f3-4aa7-ae6b-2124300839d3",
   "metadata": {},
   "source": [
    "##### if u want to learn how 4-bit quantization work \n",
    "* https://huggingface.co/blog/hf-bitsandbytes-integration\n",
    "* https://huggingface.co/blog/4bit-transformers-bitsandbytes"
   ]
  },
  {
   "cell_type": "markdown",
   "id": "93ec851c-a906-45dd-953e-ab58500e3cdc",
   "metadata": {},
   "source": []
  },
  {
   "cell_type": "code",
   "execution_count": null,
   "id": "33948464-afa0-480c-8378-b9ad72f71f3d",
   "metadata": {},
   "outputs": [],
   "source": []
  }
 ],
 "metadata": {
  "kernelspec": {
   "display_name": "Python 3 (ipykernel)",
   "language": "python",
   "name": "python3"
  },
  "language_info": {
   "codemirror_mode": {
    "name": "ipython",
    "version": 3
   },
   "file_extension": ".py",
   "mimetype": "text/x-python",
   "name": "python",
   "nbconvert_exporter": "python",
   "pygments_lexer": "ipython3",
   "version": "3.12.4"
  }
 },
 "nbformat": 4,
 "nbformat_minor": 5
}
