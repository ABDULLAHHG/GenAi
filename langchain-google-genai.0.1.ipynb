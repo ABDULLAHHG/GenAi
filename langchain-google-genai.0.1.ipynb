{
 "cells": [
  {
   "cell_type": "markdown",
   "id": "bffdb285-63f3-47a7-b666-dd5e20eb03f7",
   "metadata": {},
   "source": [
    "### prepare the env "
   ]
  },
  {
   "cell_type": "code",
   "execution_count": 18,
   "id": "9e9fd3a8-d068-4b07-80f9-e3ac36c6fff0",
   "metadata": {},
   "outputs": [],
   "source": [
    "import os\n",
    "from dotenv import load_dotenv, dotenv_values \n",
    "load_dotenv() \n",
    "\n",
    "os.environ[\"GOOGLE_API_KEY\"] = os.getenv(\"GOOGLE_API_KEY\")"
   ]
  },
  {
   "cell_type": "markdown",
   "id": "1977b944-042a-453d-a2ae-99e0ede84204",
   "metadata": {},
   "source": [
    "### import libraries "
   ]
  },
  {
   "cell_type": "code",
   "execution_count": 5,
   "id": "9b37fc96-0ab0-4f03-93d1-50e96f2fcf17",
   "metadata": {},
   "outputs": [],
   "source": [
    "from langchain.prompts.example_selector import SemanticSimilarityExampleSelector\n",
    "from langchain_community.vectorstores import FAISS\n",
    "from langchain_google_genai import GoogleGenerativeAIEmbeddings\n",
    "from langchain.prompts import FewShotPromptTemplate , PromptTemplate"
   ]
  },
  {
   "cell_type": "markdown",
   "id": "afd0e6d9-ddb8-413f-a901-ab3184291c5e",
   "metadata": {},
   "source": [
    "##### set embeddings \n",
    "###### I use this website to read about it \n",
    "###### [Google Generative AI Embeddings](https://python.langchain.com/v0.2/docs/integrations/text_embedding/google_generative_ai/)"
   ]
  },
  {
   "cell_type": "code",
   "execution_count": 20,
   "id": "d71b4005-3b9e-4fcb-8e6c-d6042f8380b5",
   "metadata": {},
   "outputs": [],
   "source": [
    "embeddings = GoogleGenerativeAIEmbeddings(model=\"models/embedding-001\")"
   ]
  },
  {
   "cell_type": "markdown",
   "id": "a29db153-805d-425c-a200-2e6e65458174",
   "metadata": {},
   "source": [
    "##### set Prompt Template"
   ]
  },
  {
   "cell_type": "code",
   "execution_count": 14,
   "id": "8e1adc29-8000-4f43-943d-042b146de8ae",
   "metadata": {},
   "outputs": [],
   "source": [
    "example_prompt = PromptTemplate(\n",
    "    input_variables = [\"input\" , \"output\"],\n",
    "    template = \"Example Input : {input}\\nExample Output : {output}\"\n",
    "    )"
   ]
  },
  {
   "cell_type": "code",
   "execution_count": 47,
   "id": "e4205ef0-ff85-4e7c-8059-4a9c63b96227",
   "metadata": {},
   "outputs": [],
   "source": [
    "examples = [\n",
    "    {\"input\" : \"عصفور\", \"output\" : \"طائر\"},\n",
    "    {\"input\" : \"قرش\", \"output\" : \"سمكة\"},\n",
    "    \n",
    "]"
   ]
  },
  {
   "cell_type": "markdown",
   "id": "01207017-8964-4377-a44c-2a03ff385387",
   "metadata": {},
   "source": [
    "##### set example selector "
   ]
  },
  {
   "cell_type": "markdown",
   "id": "e8d30eaa-92e3-45e0-b529-d8f0975d49e9",
   "metadata": {},
   "source": [
    "###### [SemanticSimilarityExampleSelector Documentation](https://api.python.langchain.com/en/latest/example_selectors/langchain_core.example_selectors.semantic_similarity.SemanticSimilarityExampleSelector.html)"
   ]
  },
  {
   "cell_type": "code",
   "execution_count": 51,
   "id": "68158683-1699-40d4-9af2-0dd22f04bbe0",
   "metadata": {},
   "outputs": [],
   "source": [
    "example_selector = SemanticSimilarityExampleSelector.from_examples(\n",
    "    examples,\n",
    "    embeddings,\n",
    "    FAISS,\n",
    "    k=2\n",
    ")"
   ]
  },
  {
   "cell_type": "markdown",
   "id": "b3c442b3-42f2-4eba-a267-9cca5d0e50e3",
   "metadata": {},
   "source": [
    "##### set similar prompt "
   ]
  },
  {
   "cell_type": "markdown",
   "id": "4ee52cb7-a4ce-4f2e-9616-7684865d72af",
   "metadata": {},
   "source": [
    "###### [FewShotPromptTemplate documentation](https://api.python.langchain.com/en/latest/prompts/langchain_core.prompts.few_shot.FewShotPromptTemplate.html)"
   ]
  },
  {
   "cell_type": "code",
   "execution_count": 52,
   "id": "b808fb57-bf35-4989-bbca-86ca17295237",
   "metadata": {},
   "outputs": [],
   "source": [
    "similar_prompt = FewShotPromptTemplate(\n",
    "    example_selector = example_selector,\n",
    "    example_prompt = example_prompt,\n",
    "    prefix = \"بالاعتماد على الامثلة ,حاول اعطاء الاجابة المناسبة\",\n",
    "    suffix = \"Input: {noun}\\nOuput:\",\n",
    "    input_variables = [\"noun\"],\n",
    ")"
   ]
  },
  {
   "cell_type": "markdown",
   "id": "3383bc50-c8b1-4751-a6a0-fd5bfe9dbd49",
   "metadata": {},
   "source": [
    "##### take a look on tamplet now "
   ]
  },
  {
   "cell_type": "code",
   "execution_count": 53,
   "id": "2d325e81-f7bc-4941-a906-dbe0ed08b8f4",
   "metadata": {
    "scrolled": true
   },
   "outputs": [
    {
     "name": "stdout",
     "output_type": "stream",
     "text": [
      "بالاعتماد على الامثلة ,حاول اعطاء الاجابة المناسبة\n",
      "\n",
      "Example Input : عصفور\n",
      "Example Output : طائر\n",
      "\n",
      "Example Input : قرش\n",
      "Example Output : سمكة\n",
      "\n",
      "Input: اسد\n",
      "Ouput:\n"
     ]
    }
   ],
   "source": [
    "print(similar_prompt.format(noun=\"اسد\"))"
   ]
  },
  {
   "cell_type": "markdown",
   "id": "c39bbce1-d6c8-4116-a789-31f523b17c3c",
   "metadata": {},
   "source": [
    "### test the model "
   ]
  },
  {
   "cell_type": "code",
   "execution_count": 54,
   "id": "ce0e5e10-c45e-4269-8101-8035602725b4",
   "metadata": {},
   "outputs": [],
   "source": [
    "from langchain_google_genai import ChatGoogleGenerativeAI  , HarmBlockThreshold, HarmCategory\n",
    "\n",
    "llm = ChatGoogleGenerativeAI(\n",
    "    model=\"gemini-1.5-pro\",\n",
    "    temperature=0,\n",
    "    max_tokens=None,\n",
    "    timeout=None,\n",
    "    max_retries=2,\n",
    "    safety_settings={\n",
    "        HarmCategory.HARM_CATEGORY_DANGEROUS_CONTENT: HarmBlockThreshold.BLOCK_NONE,\n",
    "    },\n",
    ")\n"
   ]
  },
  {
   "cell_type": "code",
   "execution_count": 56,
   "id": "c26c6bf4-e214-498c-b048-f3a13c0aa911",
   "metadata": {},
   "outputs": [
    {
     "name": "stdout",
     "output_type": "stream",
     "text": [
      "Output: حيوان مفترس \n",
      "\n"
     ]
    }
   ],
   "source": [
    "print(llm.invoke(similar_prompt.format(noun=\"اسد\")).content)"
   ]
  },
  {
   "cell_type": "markdown",
   "id": "ed4c3a6e-73ab-4b12-aa6d-2681a6a17d76",
   "metadata": {},
   "source": [
    "### Summary "
   ]
  },
  {
   "cell_type": "markdown",
   "id": "fe33bbc0-49d6-485e-84f2-1832efa31f14",
   "metadata": {},
   "source": [
    "##### this way of creating template prompt make it ezy for developer to control the output of the model "
   ]
  },
  {
   "cell_type": "code",
   "execution_count": null,
   "id": "9c6bcc12-b84a-4b91-bbff-516820cb2ed8",
   "metadata": {},
   "outputs": [],
   "source": []
  }
 ],
 "metadata": {
  "kernelspec": {
   "display_name": "Python 3 (ipykernel)",
   "language": "python",
   "name": "python3"
  },
  "language_info": {
   "codemirror_mode": {
    "name": "ipython",
    "version": 3
   },
   "file_extension": ".py",
   "mimetype": "text/x-python",
   "name": "python",
   "nbconvert_exporter": "python",
   "pygments_lexer": "ipython3",
   "version": "3.12.4"
  }
 },
 "nbformat": 4,
 "nbformat_minor": 5
}
